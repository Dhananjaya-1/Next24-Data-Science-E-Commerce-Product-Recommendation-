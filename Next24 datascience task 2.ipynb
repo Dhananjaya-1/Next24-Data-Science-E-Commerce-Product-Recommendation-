{
 "cells": [
  {
   "cell_type": "markdown",
   "id": "8f3991c5",
   "metadata": {},
   "source": [
    "###     Generating the Dataset"
   ]
  },
  {
   "cell_type": "code",
   "execution_count": 1,
   "id": "36bd1337",
   "metadata": {},
   "outputs": [],
   "source": [
    "import pandas as pd\n",
    "import numpy as np\n",
    "from datetime import datetime, timedelta\n",
    "\n",
    "# Parameters\n",
    "n_users = 20  # Number of users\n",
    "n_products = 10  # Number of products\n",
    "n_ratings = 100  # Number of ratings\n",
    "\n",
    "# Generate random user IDs and product IDs\n",
    "user_ids = np.random.randint(1, n_users+1, size=n_ratings)\n",
    "product_ids = np.random.randint(101, 101+n_products, size=n_ratings)\n",
    "\n",
    "# Generate random ratings\n",
    "ratings = np.random.randint(1, 6, size=n_ratings)\n",
    "\n",
    "# Generate random timestamps within a specific month (e.g., September 2023)\n",
    "start_date = datetime(2023, 9, 1)\n",
    "end_date = datetime(2023, 9, 30)\n",
    "timestamps = [start_date + timedelta(days=np.random.randint(0, (end_date - start_date).days)) for _ in range(n_ratings)]\n",
    "\n",
    "# Create the DataFrame\n",
    "data = pd.DataFrame({\n",
    "    'user_id': user_ids,\n",
    "    'product_id': product_ids,\n",
    "    'rating': ratings,\n",
    "    'timestamp': timestamps\n",
    "})\n",
    "\n",
    "# Save the dataset to a CSV file\n",
    "data.to_csv('custom_ecommerce_data.csv', index=False)\n"
   ]
  },
  {
   "cell_type": "markdown",
   "id": "2975f946",
   "metadata": {},
   "source": [
    "### Loading and Preprocessing the Data "
   ]
  },
  {
   "cell_type": "code",
   "execution_count": 2,
   "id": "1a50e711",
   "metadata": {},
   "outputs": [
    {
     "name": "stdout",
     "output_type": "stream",
     "text": [
      "          user_id  product_id      rating            timestamp\n",
      "count  100.000000  100.000000  100.000000                  100\n",
      "mean    10.190000  105.570000    3.020000  2023-09-16 03:07:12\n",
      "min      1.000000  101.000000    1.000000  2023-09-01 00:00:00\n",
      "25%      5.000000  103.000000    2.000000  2023-09-09 00:00:00\n",
      "50%     10.000000  105.000000    3.000000  2023-09-17 00:00:00\n",
      "75%     15.000000  108.000000    5.000000  2023-09-23 00:00:00\n",
      "max     20.000000  110.000000    5.000000  2023-09-29 00:00:00\n",
      "std      6.023011    3.078944    1.476961                  NaN\n",
      "user_id       0\n",
      "product_id    0\n",
      "rating        0\n",
      "timestamp     0\n",
      "dtype: int64\n"
     ]
    }
   ],
   "source": [
    "import pandas as pd\n",
    "\n",
    "# Load the dataset\n",
    "data = pd.read_csv('custom_ecommerce_data.csv')\n",
    "\n",
    "# Convert the timestamp to datetime format\n",
    "data['timestamp'] = pd.to_datetime(data['timestamp'])\n",
    "\n",
    "# Display basic statistics and check for missing values\n",
    "print(data.describe())\n",
    "print(data.isnull().sum())\n",
    "\n",
    "# Drop any missing values (if any)\n",
    "data.dropna(inplace=True)\n"
   ]
  },
  {
   "cell_type": "markdown",
   "id": "18dcc503",
   "metadata": {},
   "source": [
    "### Exploratory Data Analysis (EDA)"
   ]
  },
  {
   "cell_type": "code",
   "execution_count": 3,
   "id": "4be94ee3",
   "metadata": {},
   "outputs": [
    {
     "name": "stdout",
     "output_type": "stream",
     "text": [
      "Number of unique users: 20\n",
      "Number of unique products: 10\n"
     ]
    },
    {
     "data": {
      "image/png": "[encoded data removed]",
      "text/plain": [
       "<Figure size 800x600 with 1 Axes>"
      ]
     },
     "metadata": {},
     "output_type": "display_data"
    }
   ],
   "source": [
    "import matplotlib.pyplot as plt\n",
    "\n",
    "# Number of unique users and products\n",
    "unique_users = data['user_id'].nunique()\n",
    "unique_products = data['product_id'].nunique()\n",
    "\n",
    "print(f\"Number of unique users: {unique_users}\")\n",
    "print(f\"Number of unique products: {unique_products}\")\n",
    "\n",
    "# Distribution of ratings\n",
    "plt.figure(figsize=(8, 6))\n",
    "data['rating'].hist(bins=5)\n",
    "plt.title('Distribution of Ratings')\n",
    "plt.xlabel('Rating')\n",
    "plt.ylabel('Count')\n",
    "plt.show()\n"
   ]
  },
  {
   "cell_type": "markdown",
   "id": "b511ff44",
   "metadata": {},
   "source": [
    "### Building the Recommendation System\n"
   ]
  },
  {
   "cell_type": "code",
   "execution_count": 4,
   "id": "c2034b76",
   "metadata": {},
   "outputs": [
    {
     "name": "stdout",
     "output_type": "stream",
     "text": [
      "RMSE: 1.4381\n",
      "MAE:  1.1322\n",
      "RMSE: 1.4381241379446874\n",
      "MAE: 1.132232884201357\n"
     ]
    }
   ],
   "source": [
    "from surprise import Dataset, Reader, SVD\n",
    "from surprise.model_selection import cross_validate, train_test_split\n",
    "from surprise import accuracy\n",
    "\n",
    "# Prepare data for the Surprise library\n",
    "reader = Reader(rating_scale=(1, 5))\n",
    "surprise_data = Dataset.load_from_df(data[['user_id', 'product_id', 'rating']], reader)\n",
    "\n",
    "# Split the data into training and testing sets\n",
    "trainset, testset = train_test_split(surprise_data, test_size=0.25)\n",
    "\n",
    "# Initialize the SVD model\n",
    "svd = SVD()\n",
    "\n",
    "# Train the model\n",
    "svd.fit(trainset)\n",
    "\n",
    "# Make predictions on the test set\n",
    "predictions = svd.test(testset)\n",
    "\n",
    "# Evaluate the model\n",
    "rmse = accuracy.rmse(predictions)\n",
    "mae = accuracy.mae(predictions)\n",
    "print(f\"RMSE: {rmse}\")\n",
    "print(f\"MAE: {mae}\")\n"
   ]
  },
  {
   "cell_type": "markdown",
   "id": "30851a70",
   "metadata": {},
   "source": [
    "### Making Recommendations"
   ]
  },
  {
   "cell_type": "code",
   "execution_count": 5,
   "id": "745f723d",
   "metadata": {},
   "outputs": [
    {
     "name": "stdout",
     "output_type": "stream",
     "text": [
      "Top 10 recommendations for user 1: [(103, 2.366241937646552)]\n"
     ]
    }
   ],
   "source": [
    "from collections import defaultdict\n",
    "\n",
    "def get_top_n_recommendations(predictions, n=10):\n",
    "    top_n = defaultdict(list)\n",
    "    for uid, iid, true_r, est, _ in predictions:\n",
    "        top_n[uid].append((iid, est))\n",
    "\n",
    "    for uid, user_ratings in top_n.items():\n",
    "        user_ratings.sort(key=lambda x: x[1], reverse=True)\n",
    "        top_n[uid] = user_ratings[:n]\n",
    "\n",
    "    return top_n\n",
    "\n",
    "# Get top 10 recommendations for all users\n",
    "top_n = get_top_n_recommendations(predictions, n=10)\n",
    "\n",
    "# Print recommendations for a specific user (e.g., user_id = 1)\n",
    "print(f\"Top 10 recommendations for user 1: {top_n[1]}\")\n"
   ]
  },
  {
   "cell_type": "markdown",
   "id": "58830e42",
   "metadata": {},
   "source": [
    "### Deploying the Model"
   ]
  },
  {
   "cell_type": "code",
   "execution_count": 6,
   "id": "1e1fc545",
   "metadata": {},
   "outputs": [
    {
     "data": {
      "text/plain": [
       "Prediction(uid=1, iid=101, r_ui=None, est=2.8862304105851644, details={'was_impossible': False})"
      ]
     },
     "execution_count": 6,
     "metadata": {},
     "output_type": "execute_result"
    }
   ],
   "source": [
    "import pickle\n",
    "\n",
    "# Save the model\n",
    "with open('recommendation_model.pkl', 'wb') as f:\n",
    "    pickle.dump(svd, f)\n",
    "\n",
    "# Load the model\n",
    "with open('recommendation_model.pkl', 'rb') as f:\n",
    "    loaded_model = pickle.load(f)\n",
    "\n",
    "# Make predictions with the loaded model\n",
    "loaded_model.predict(uid=1, iid=101)\n"
   ]
  },
  {
   "cell_type": "code",
   "execution_count": null,
   "id": "db46f92f",
   "metadata": {},
   "outputs": [],
   "source": []
  }
 ],
 "metadata": {
  "kernelspec": {
   "display_name": "Python 3 (ipykernel)",
   "language": "python",
   "name": "python3"
  },
  "language_info": {
   "codemirror_mode": {
    "name": "ipython",
    "version": 3
   },
   "file_extension": ".py",
   "mimetype": "text/x-python",
   "name": "python",
   "nbconvert_exporter": "python",
   "pygments_lexer": "ipython3",
   "version": "3.11.5"
  }
 },
 "nbformat": 4,
 "nbformat_minor": 5
}
